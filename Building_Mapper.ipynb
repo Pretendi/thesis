{
 "cells": [
  {
   "cell_type": "markdown",
   "metadata": {},
   "source": [
    "## Finding the closest building for each of the forward geocoded addresses"
   ]
  },
  {
   "cell_type": "markdown",
   "metadata": {},
   "source": [
    "### Imports and Function Defintions"
   ]
  },
  {
   "cell_type": "code",
   "execution_count": 3,
   "metadata": {},
   "outputs": [],
   "source": [
    "import numpy as np\n",
    "import scipy as sp\n",
    "import pandas as pd\n",
    "import networkx as nx\n",
    "import matplotlib.pyplot as plt\n",
    "import math\n",
    "import itertools\n",
    "from scipy.spatial.distance import cdist"
   ]
  },
  {
   "cell_type": "code",
   "execution_count": 7,
   "metadata": {},
   "outputs": [],
   "source": [
    "import xlrd"
   ]
  },
  {
   "cell_type": "code",
   "execution_count": 2,
   "metadata": {},
   "outputs": [],
   "source": [
    "def closest_node(target, nodeList):\n",
    "    return nodeList[cdist([target], nodeList).argmin()]"
   ]
  },
  {
   "cell_type": "code",
   "execution_count": 69,
   "metadata": {},
   "outputs": [],
   "source": [
    "def sector_builder(LatSec, LonSec, nodeList):\n",
    "    #returns a list of points in the sector and all adjacent sectors (9 in total)\n",
    "    tempDF = nodeList[(abs(nodeList['Latitude Quadrant']-LatSec)<2) & (abs(nodeList['Longitude Quadrant']-LonSec)<2)].copy()\n",
    "    \n",
    "    return(tempDF[['LATITUDE', 'LONGITUDE']].values)"
   ]
  },
  {
   "cell_type": "markdown",
   "metadata": {},
   "source": [
    "### Data Loading and Solving"
   ]
  },
  {
   "cell_type": "code",
   "execution_count": 8,
   "metadata": {},
   "outputs": [],
   "source": [
    "#takes 10ish seconds\n",
    "labeledDF = pd.read_excel('Upload_Data.xlsx', sheet_name='Permit Points')"
   ]
  },
  {
   "cell_type": "code",
   "execution_count": 10,
   "metadata": {},
   "outputs": [],
   "source": [
    "#takes 35ish seconds\n",
    "buildingDF = pd.read_excel('Upload_Data.xlsx', sheet_name='3D Massing Points')"
   ]
  },
  {
   "cell_type": "code",
   "execution_count": 85,
   "metadata": {
    "scrolled": true
   },
   "outputs": [],
   "source": [
    "closestList = []\n",
    "for index, row in labeledDF.iterrows():\n",
    "    searchList = sector_builder(row['Latitude Sector'], row['Longitude Sector'], buildingDF)\n",
    "    if(len(searchList) >0):\n",
    "        node = row['Latitude'], row['Longitude']\n",
    "        result = closest_node(node, searchList)\n",
    "        closestList.append(result)\n",
    "    else:\n",
    "        closestList.append(\"NA\")\n",
    "    \n",
    "    #print(\"result\", result[0])"
   ]
  },
  {
   "cell_type": "code",
   "execution_count": 86,
   "metadata": {},
   "outputs": [],
   "source": [
    "pd.DataFrame(closestList).to_csv(\"closestBuilding.csv\")"
   ]
  }
 ],
 "metadata": {
  "kernelspec": {
   "display_name": "Python [conda env:warmup]",
   "language": "python",
   "name": "conda-env-warmup-py"
  },
  "language_info": {
   "codemirror_mode": {
    "name": "ipython",
    "version": 2
   },
   "file_extension": ".py",
   "mimetype": "text/x-python",
   "name": "python",
   "nbconvert_exporter": "python",
   "pygments_lexer": "ipython2",
   "version": "2.7.15"
  }
 },
 "nbformat": 4,
 "nbformat_minor": 2
}
