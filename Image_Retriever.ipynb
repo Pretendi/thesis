{
 "cells": [
  {
   "cell_type": "markdown",
   "metadata": {},
   "source": [
    "## This workbook pulls photos of the input buildings from Google Streetview API\n",
    "\n",
    "Built off of docs at: https://pypi.org/project/google-streetview/\n",
    "and guide at https://andrewpwheeler.wordpress.com/2015/12/28/using-python-to-grab-google-street-view-imagery/"
   ]
  },
  {
   "cell_type": "code",
   "execution_count": 3,
   "metadata": {},
   "outputs": [],
   "source": [
    "import numpy as np\n",
    "import scipy as sp\n",
    "import pandas as pd\n",
    "import networkx as nx\n",
    "import matplotlib.pyplot as plt\n",
    "import math\n",
    "import itertools\n",
    "from scipy.spatial.distance import cdist\n",
    "import os\n",
    "import urllib\n",
    "import xlrd"
   ]
  },
  {
   "cell_type": "code",
   "execution_count": 10,
   "metadata": {
    "scrolled": true
   },
   "outputs": [],
   "source": [
    "# this implementation uses url modification directly, may not be the fastest\n",
    "# works once I got my API key paid for! \n",
    "#import urllib, os, urllib.parse, urllib.request\n",
    "\n",
    "#base code from: https://andrewpwheeler.wordpress.com/2015/12/28/using-python-to-grab-google-street-view-imagery/\n",
    "\n",
    "myloc = r\"C:\\Users\\pseufert\\Documents\\MIE1516\\Project\" #replace with own folder for use\n",
    "key = \"&key=\" + \"\" #add key to make this work\n",
    "\n",
    "def GetStreet(Add,SaveLoc):\n",
    "    base = \"https://maps.googleapis.com/maps/api/streetview?size=600x400&location=\"\n",
    "    #for python 3: urllib.parse.quote_plus\n",
    "    MyUrl = base + urllib.quote_plus(Add) + key #added url encoding\n",
    "    fi = Add + \".jpg\"\n",
    "    #for python 3: urllib.request.urlretrieve\n",
    "    urllib.urlretrieve(MyUrl, os.path.join(SaveLoc,fi))\n",
    "    "
   ]
  },
  {
   "cell_type": "code",
   "execution_count": 7,
   "metadata": {},
   "outputs": [],
   "source": [
    "#takes 2ish seconds\n",
    "labeledDF = pd.read_excel('Classifier_Building_Data.xlsx', sheet_name='Sheet2')"
   ]
  },
  {
   "cell_type": "code",
   "execution_count": 9,
   "metadata": {},
   "outputs": [
    {
     "data": {
      "text/html": [
       "<div>\n",
       "<style scoped>\n",
       "    .dataframe tbody tr th:only-of-type {\n",
       "        vertical-align: middle;\n",
       "    }\n",
       "\n",
       "    .dataframe tbody tr th {\n",
       "        vertical-align: top;\n",
       "    }\n",
       "\n",
       "    .dataframe thead th {\n",
       "        text-align: right;\n",
       "    }\n",
       "</style>\n",
       "<table border=\"1\" class=\"dataframe\">\n",
       "  <thead>\n",
       "    <tr style=\"text-align: right;\">\n",
       "      <th></th>\n",
       "      <th>Address</th>\n",
       "      <th>New Typology</th>\n",
       "    </tr>\n",
       "  </thead>\n",
       "  <tbody>\n",
       "    <tr>\n",
       "      <th>0</th>\n",
       "      <td>548 BROOKDALE AVE</td>\n",
       "      <td>Detached House</td>\n",
       "    </tr>\n",
       "    <tr>\n",
       "      <th>1</th>\n",
       "      <td>361 JOICEY BLVD</td>\n",
       "      <td>Detached House</td>\n",
       "    </tr>\n",
       "    <tr>\n",
       "      <th>2</th>\n",
       "      <td>23 TARRAGONA BLVD</td>\n",
       "      <td>Attached House</td>\n",
       "    </tr>\n",
       "    <tr>\n",
       "      <th>3</th>\n",
       "      <td>56 VIELLA ST</td>\n",
       "      <td>Attached House</td>\n",
       "    </tr>\n",
       "    <tr>\n",
       "      <th>4</th>\n",
       "      <td>58 VIELLA ST</td>\n",
       "      <td>Attached House</td>\n",
       "    </tr>\n",
       "    <tr>\n",
       "      <th>5</th>\n",
       "      <td>33 TARRAGONA BLVD</td>\n",
       "      <td>Attached House</td>\n",
       "    </tr>\n",
       "    <tr>\n",
       "      <th>6</th>\n",
       "      <td>63 VIELLA ST</td>\n",
       "      <td>Attached House</td>\n",
       "    </tr>\n",
       "    <tr>\n",
       "      <th>7</th>\n",
       "      <td>17 TARRAGONA BLVD</td>\n",
       "      <td>Attached House</td>\n",
       "    </tr>\n",
       "    <tr>\n",
       "      <th>8</th>\n",
       "      <td>21 TARRAGONA BLVD</td>\n",
       "      <td>Attached House</td>\n",
       "    </tr>\n",
       "    <tr>\n",
       "      <th>9</th>\n",
       "      <td>31 TARRAGONA BLVD</td>\n",
       "      <td>Attached House</td>\n",
       "    </tr>\n",
       "  </tbody>\n",
       "</table>\n",
       "</div>"
      ],
      "text/plain": [
       "             Address    New Typology\n",
       "0  548 BROOKDALE AVE  Detached House\n",
       "1    361 JOICEY BLVD  Detached House\n",
       "2  23 TARRAGONA BLVD  Attached House\n",
       "3       56 VIELLA ST  Attached House\n",
       "4       58 VIELLA ST  Attached House\n",
       "5  33 TARRAGONA BLVD  Attached House\n",
       "6       63 VIELLA ST  Attached House\n",
       "7  17 TARRAGONA BLVD  Attached House\n",
       "8  21 TARRAGONA BLVD  Attached House\n",
       "9  31 TARRAGONA BLVD  Attached House"
      ]
     },
     "execution_count": 9,
     "metadata": {},
     "output_type": "execute_result"
    }
   ],
   "source": [
    "labeledDF.head(10)"
   ]
  },
  {
   "cell_type": "code",
   "execution_count": null,
   "metadata": {},
   "outputs": [],
   "source": []
  },
  {
   "cell_type": "markdown",
   "metadata": {},
   "source": [
    "### Retrieve Images"
   ]
  },
  {
   "cell_type": "code",
   "execution_count": 11,
   "metadata": {},
   "outputs": [],
   "source": [
    "\n",
    "Tests = [\"548 BROOKDALE AVE, Toronto, Ontario\",\n",
    "         \"361 JOICEY BLVD, Toronto, Ontario\"]\n",
    "\n",
    "for i in Tests:\n",
    "    GetStreet(Add=i,SaveLoc=myloc)"
   ]
  }
 ],
 "metadata": {
  "kernelspec": {
   "display_name": "Python [conda env:warmup]",
   "language": "python",
   "name": "conda-env-warmup-py"
  },
  "language_info": {
   "codemirror_mode": {
    "name": "ipython",
    "version": 2
   },
   "file_extension": ".py",
   "mimetype": "text/x-python",
   "name": "python",
   "nbconvert_exporter": "python",
   "pygments_lexer": "ipython2",
   "version": "2.7.15"
  }
 },
 "nbformat": 4,
 "nbformat_minor": 2
}
